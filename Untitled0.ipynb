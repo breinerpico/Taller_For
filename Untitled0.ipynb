{
  "nbformat": 4,
  "nbformat_minor": 0,
  "metadata": {
    "colab": {
      "provenance": [],
      "authorship_tag": "ABX9TyOgO/m77PGmOJxwjVXlyC3c",
      "include_colab_link": true
    },
    "kernelspec": {
      "name": "python3",
      "display_name": "Python 3"
    },
    "language_info": {
      "name": "python"
    }
  },
  "cells": [
    {
      "cell_type": "markdown",
      "metadata": {
        "id": "view-in-github",
        "colab_type": "text"
      },
      "source": [
        "<a href=\"https://colab.research.google.com/github/breinerpico/Taller_For/blob/main/Untitled0.ipynb\" target=\"_parent\"><img src=\"https://colab.research.google.com/assets/colab-badge.svg\" alt=\"Open In Colab\"/></a>"
      ]
    },
    {
      "cell_type": "markdown",
      "source": [
        "#1"
      ],
      "metadata": {
        "id": "XTD2eTE7SeZJ"
      }
    },
    {
      "cell_type": "code",
      "source": [
        "# ejercicio No.1\n",
        "\n",
        "suma = 0\n",
        "serie = list(range(1,11))\n",
        "for i in range(1,11):\n",
        "  suma = suma + i\n",
        "\n",
        "print(\"la suma es: \" + str(suma))\n",
        "print(serie)"
      ],
      "metadata": {
        "id": "X6iki_J0ShMU"
      },
      "execution_count": null,
      "outputs": []
    },
    {
      "cell_type": "markdown",
      "source": [
        "#2"
      ],
      "metadata": {
        "id": "KacXPEe9SjZr"
      }
    },
    {
      "cell_type": "code",
      "source": [
        "#ejercicio No.2\n",
        "\n",
        "print(1)\n",
        "print(2)\n",
        "print(3)\n",
        "print(4)\n",
        "print(5)\n",
        "print(6)\n",
        "print(7)\n",
        "print(8)\n",
        "print(9)\n",
        "print(10)"
      ],
      "metadata": {
        "id": "KP_URBX2QRm-"
      },
      "execution_count": null,
      "outputs": []
    },
    {
      "cell_type": "markdown",
      "source": [
        "#3"
      ],
      "metadata": {
        "id": "IHu4SwdOSTtk"
      }
    },
    {
      "cell_type": "code",
      "source": [
        "#ejercicio No.3\n",
        "\n",
        "i = 1\n",
        "while (i <=10):\n",
        "  print(i)\n",
        "  i = i + 1"
      ],
      "metadata": {
        "id": "VykzpiANSVaX"
      },
      "execution_count": null,
      "outputs": []
    },
    {
      "cell_type": "markdown",
      "source": [
        "#4"
      ],
      "metadata": {
        "id": "Vt8kDANjTKXs"
      }
    },
    {
      "cell_type": "code",
      "source": [
        "# ejercicio No.4\n",
        "\n",
        "for i in range(1,11):\n",
        "  print(i)"
      ],
      "metadata": {
        "id": "VvSa6Z31TLqU"
      },
      "execution_count": null,
      "outputs": []
    },
    {
      "cell_type": "markdown",
      "source": [
        "#5"
      ],
      "metadata": {
        "id": "Unq3FW5lTWJE"
      }
    },
    {
      "cell_type": "code",
      "source": [
        "#ejercicio No.5\n",
        "\n",
        "mi_lista = [1,2,3,4,5,6,7,8,9,10]\n",
        "for i in mi_lista:\n",
        "  print(i)"
      ],
      "metadata": {
        "id": "_FKvXkDETXgQ"
      },
      "execution_count": null,
      "outputs": []
    },
    {
      "cell_type": "markdown",
      "source": [
        "#6"
      ],
      "metadata": {
        "id": "F6hZI2myU7rr"
      }
    },
    {
      "cell_type": "code",
      "source": [
        "# ejercicio No.6\n",
        "\n",
        "mi_lista = [1,2,3,4,5,6,7,8,9,10]\n",
        "for i in mi_lista:\n",
        "  print(f\"{i} Guanenta 200 años!\")"
      ],
      "metadata": {
        "id": "4eHVb-UMU8J0"
      },
      "execution_count": null,
      "outputs": []
    },
    {
      "cell_type": "markdown",
      "source": [
        "#7"
      ],
      "metadata": {
        "id": "u129pPZ8Vj8D"
      }
    },
    {
      "cell_type": "code",
      "source": [
        "#ejercicio No.7\n",
        "\n",
        "dias_semana = [\"lu\", \"ma\", \"mi\", \"ju\", \"vi\", \"sa\", \"do\"]\n",
        "for i in dias_semana:\n",
        "  print(i)"
      ],
      "metadata": {
        "id": "_AhNkouEVkQ6"
      },
      "execution_count": null,
      "outputs": []
    },
    {
      "cell_type": "markdown",
      "source": [
        "#8"
      ],
      "metadata": {
        "id": "iynAF06_WJUc"
      }
    },
    {
      "cell_type": "code",
      "source": [
        "#ejercicio No.8\n",
        "\n",
        "mi_listica = [1, 3.14, 9, True, \"Breiner\", 8, \"guanenta\"]\n",
        "for i in mi_listica:\n",
        "  print(i)"
      ],
      "metadata": {
        "id": "HF1D33llWJpr"
      },
      "execution_count": null,
      "outputs": []
    },
    {
      "cell_type": "markdown",
      "source": [
        "#9"
      ],
      "metadata": {
        "id": "cD9PDtZwYGV7"
      }
    },
    {
      "cell_type": "code",
      "source": [
        "#ejercicio No.9\n",
        "\n",
        "nombre = input(\"digite su nombre: \")\n",
        "\n",
        "for i in nombre:\n",
        "  print(i)"
      ],
      "metadata": {
        "id": "zIJJvU-fYGuo"
      },
      "execution_count": null,
      "outputs": []
    },
    {
      "cell_type": "markdown",
      "source": [
        "#10"
      ],
      "metadata": {
        "id": "XiGIZxcMYmQ4"
      }
    },
    {
      "cell_type": "code",
      "source": [
        "#ejercicio No.10\n",
        "\n",
        "nombre = input(\"digite su nombre: \")\n",
        "\n",
        "for i in nombre:\n",
        "  if i == \"e\":\n",
        "    print(\"*\")\n",
        "  else:\n",
        "    print(i)"
      ],
      "metadata": {
        "id": "3q1omAnwYoEX"
      },
      "execution_count": null,
      "outputs": []
    },
    {
      "cell_type": "markdown",
      "source": [
        "#11"
      ],
      "metadata": {
        "id": "RDC6-G5ObFtN"
      }
    },
    {
      "cell_type": "code",
      "source": [
        "#ejercicio No.11\n",
        "\n",
        "nombre = input(\"digite su nombre: \")\n",
        "\n",
        "for i in nombre:\n",
        "  print(i .upper())"
      ],
      "metadata": {
        "id": "g9IASd_JbGE0"
      },
      "execution_count": null,
      "outputs": []
    },
    {
      "cell_type": "markdown",
      "source": [
        "# taller for"
      ],
      "metadata": {
        "id": "D7QxTlg3HHp-"
      }
    },
    {
      "cell_type": "code",
      "source": [
        "#ejercicio No.1\n",
        "\n",
        "numeros = [20, 21, 30, 41, 50, 51, 20]\n",
        "\n",
        "for numero in numeros:\n",
        "  if numero % 10 !=1:\n",
        "    print(numero)"
      ],
      "metadata": {
        "id": "coCGX_SeLcxI"
      },
      "execution_count": null,
      "outputs": []
    },
    {
      "cell_type": "code",
      "source": [
        "#ejercicio No.2\n",
        "palabra = \"programacion\"\n",
        "for _ in range(1000):\n",
        "    print(palabra)"
      ],
      "metadata": {
        "id": "IKsYUZezHytq"
      },
      "execution_count": null,
      "outputs": []
    },
    {
      "cell_type": "code",
      "source": [
        "# ejercicio No.3\n",
        "\n",
        "meses = {\n",
        "    \"E\": \"Enero\",\n",
        "    \"F\": \"Febrero\",\n",
        "    \"M\": \"Marzo\",\n",
        "    \"A\": \"Abril\",\n",
        "}\n",
        "\n",
        "iniciales_meses = [\"E\", \"F\", \"M\", \"A\"]\n",
        "\n",
        "for inicial in iniciales_meses:\n",
        "    print(meses[inicial])"
      ],
      "metadata": {
        "id": "_B1FpKUZMVXZ"
      },
      "execution_count": null,
      "outputs": []
    },
    {
      "cell_type": "code",
      "source": [
        "#ejercicio No.4\n",
        "\n",
        "texto = input(\"Ingrese el texto: \")\n",
        "vocales = {'a': 0, 'e': 0, 'i': 0, 'o': 0, 'u': 0, 'A': 0, 'E': 0, 'I': 0, 'O': 0, 'U': 0}\n",
        "for letra in texto:\n",
        "    if letra in vocales:\n",
        "        vocales[letra] += 1\n",
        "for vocal, count in vocales.items():\n",
        "    print(f\"{vocal}: {count}\")"
      ],
      "metadata": {
        "id": "ce2hBtNONsM9"
      },
      "execution_count": null,
      "outputs": []
    },
    {
      "cell_type": "markdown",
      "source": [
        "#5\n",
        "En un diagrama de flujo, la instrucción repetitiva for se representa generalmente con un rombo o diamante que contiene la palabra \"for\" seguida de la condición de repetición. Por ejemplo, \"for i = 1 to 10\" indicaría que la repetición se realiza mientras la variable i esté en el rango de 1 a 10. Dentro del rombo, se detallaría el bloque de código que se repetirá en cada iteración."
      ],
      "metadata": {
        "id": "OTbYH_5zQq2X"
      }
    },
    {
      "cell_type": "code",
      "source": [
        "# ejercicio No.6\n",
        "\n",
        "numeros_pares = 0\n",
        "numeros_impares = 0\n",
        "\n",
        "for i in range(20):\n",
        "    num = int(input(\"Ingrese un número entero: \"))\n",
        "    if num % 2 == 0:\n",
        "        numeros_pares += 1\n",
        "    else:\n",
        "        numeros_impares += 1\n",
        "\n",
        "print(f\"Números pares: {numeros_pares}\")\n",
        "print(f\"Números impares: {numeros_impares}\")"
      ],
      "metadata": {
        "id": "qRG_Am6hRjW2"
      },
      "execution_count": null,
      "outputs": []
    },
    {
      "cell_type": "code",
      "source": [
        "#ejercicio No.7\n",
        "\n",
        "count_seven = 0\n",
        "count_nine = 0\n",
        "for num in range(1000, 5001):\n",
        "    if num % 7 == 0:\n",
        "        count_seven += 1\n",
        "    if num % 9 == 0:\n",
        "        count_nine += 1\n",
        "print(f\"Número de múltiplos de 7 entre 1000 y 5000: {count_seven}\")\n",
        "print(f\"Número de múltiplos de 9 entre 1000 y 5000: {count_nine}\")"
      ],
      "metadata": {
        "id": "7nlIolKJUb3Q"
      },
      "execution_count": null,
      "outputs": []
    },
    {
      "cell_type": "code",
      "source": [
        "#ejercicio No.8\n",
        "\n",
        "import random\n",
        "n_dados = 3\n",
        "n_lanzamientos = 100\n",
        "\n",
        "resultados = {i: 0 for i in range(1, 7)}\n",
        "for _ in range(n_lanzamientos):\n",
        "    suma_caras = 0\n",
        "    for _ in range(n_dados):\n",
        "        cara = random.randint(1, 6)\n",
        "        resultados[cara] += 1\n",
        "print(\"Histograma de resultados:\")\n",
        "for cara, cantidad in resultados.items():\n",
        "    print(f\"Cara {cara}: {'*' * cantidad}\")"
      ],
      "metadata": {
        "id": "wPhMuF0CVimV"
      },
      "execution_count": null,
      "outputs": []
    },
    {
      "cell_type": "code",
      "source": [
        "# ejercicio No.9\n",
        "\n",
        "num = int(input(\"Ingresa un número para calcular su factorial: \"))\n",
        "factorial = 1\n",
        "if num < 0:\n",
        "    print(\"No se puede calcular el factorial de un número negativo.\")\n",
        "elif num == 0:\n",
        "    print(\"El factorial de 0 es 1\")\n",
        "else:\n",
        "    for i in range(1, num + 1):\n",
        "        factorial *= i\n",
        "    print(f\"El factorial de {num} es {factorial}\")"
      ],
      "metadata": {
        "id": "CgtVjtn9YxFm"
      },
      "execution_count": null,
      "outputs": []
    },
    {
      "cell_type": "code",
      "source": [
        "# ejercicio No.10\n",
        "\n",
        "for i in range(1, 11):\n",
        "    print(i ** 2, end=\", \" if i < 10 else \"\")"
      ],
      "metadata": {
        "id": "UpTQ_0GgZaHx"
      },
      "execution_count": null,
      "outputs": []
    }
  ]
}